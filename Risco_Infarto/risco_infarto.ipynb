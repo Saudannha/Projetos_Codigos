{
 "cells": [
  {
   "cell_type": "markdown",
   "metadata": {},
   "source": [
    "1. Importação das Bibliotecas\n",
    "   \n",
    "Importa bibliotecas essenciais para análise de dados (pandas, numpy), visualização (matplotlib, seaborn) e aprendizado de máquina (scikit-learn)."
   ]
  },
  {
   "cell_type": "code",
   "execution_count": 1,
   "metadata": {},
   "outputs": [
    {
     "name": "stdout",
     "output_type": "stream",
     "text": [
      "Requirement already satisfied: numpy in /Users/andersongermanodesouza/.pyenv/versions/3.12.2/lib/python3.12/site-packages (1.26.4)\n",
      "\n",
      "\u001b[1m[\u001b[0m\u001b[34;49mnotice\u001b[0m\u001b[1;39;49m]\u001b[0m\u001b[39;49m A new release of pip is available: \u001b[0m\u001b[31;49m24.0\u001b[0m\u001b[39;49m -> \u001b[0m\u001b[32;49m24.2\u001b[0m\n",
      "\u001b[1m[\u001b[0m\u001b[34;49mnotice\u001b[0m\u001b[1;39;49m]\u001b[0m\u001b[39;49m To update, run: \u001b[0m\u001b[32;49mpip install --upgrade pip\u001b[0m\n",
      "Note: you may need to restart the kernel to use updated packages.\n"
     ]
    }
   ],
   "source": [
    "pip install numpy"
   ]
  },
  {
   "cell_type": "code",
   "execution_count": null,
   "metadata": {},
   "outputs": [],
   "source": [
    "import pandas as pd\n",
    "import numpy as np\n",
    "import matplotlib.pyplot as plt\n",
    "import seaborn as sns\n",
    "from sklearn.linear_model import LogisticRegression\n",
    "from sklearn.tree import DecisionTreeClassifier\n",
    "from sklearn import tree\n",
    "from sklearn.metrics import accuracy_score\n",
    "from sklearn.model_selection import train_test_split # Para validação cruzada\n",
    "from sklearn.preprocessing import OneHotEncoder # Para codificação One-Hot"
   ]
  },
  {
   "cell_type": "markdown",
   "metadata": {},
   "source": [
    "1. Carregamento e Preparação dos Dados:\n",
    "- Carrega dados de treinamento e teste a partir de arquivos CSV.\n",
    "- Remove a coluna 'PatientID', que provavelmente não é relevante para a previsão.\n",
    "- Realiza uma análise exploratória de dados (EDA) para entender melhor os dados."
   ]
  },
  {
   "cell_type": "code",
   "execution_count": null,
   "metadata": {},
   "outputs": [],
   "source": [
    "# Carregando os dados\n",
    "train = pd.read_csv('train.csv')\n",
    "test = pd.read_csv('test.csv')\n",
    "y_test = pd.read_csv('y_test.csv')"
   ]
  },
  {
   "cell_type": "code",
   "execution_count": null,
   "metadata": {},
   "outputs": [],
   "source": [
    "# Removendo a coluna 'PatientID'\n",
    "train.drop(['PatientID'], axis=1, inplace=True)\n",
    "test.drop(['PatientID'], axis=1, inplace=True)"
   ]
  },
  {
   "cell_type": "code",
   "execution_count": null,
   "metadata": {},
   "outputs": [],
   "source": [
    "train.dtypes"
   ]
  },
  {
   "cell_type": "code",
   "execution_count": null,
   "metadata": {},
   "outputs": [],
   "source": [
    "train.head()"
   ]
  },
  {
   "cell_type": "code",
   "execution_count": null,
   "metadata": {},
   "outputs": [],
   "source": [
    "# Somar os números de dados faltantes por parâmetro\n",
    "train.isnull().sum().sort_values(ascending=False)"
   ]
  },
  {
   "cell_type": "code",
   "execution_count": null,
   "metadata": {},
   "outputs": [],
   "source": [
    "train.describe()"
   ]
  },
  {
   "cell_type": "markdown",
   "metadata": {},
   "source": [
    "1. Visualização dos Dados:\n",
    "\n",
    "Utiliza bibliotecas de visualização para criar gráficos como histogramas, gráficos de barras, etc., para visualizar padrões nos dados."
   ]
  },
  {
   "cell_type": "code",
   "execution_count": null,
   "metadata": {},
   "outputs": [],
   "source": [
    "train.hist(figsize=(10,8));"
   ]
  },
  {
   "cell_type": "code",
   "execution_count": null,
   "metadata": {},
   "outputs": [],
   "source": [
    "# Analisando a distribuição do colesterol pelo gênero\n",
    "x = train[['Sex','Cholesterol']].groupby(['Sex']).count()\n",
    "print(x) "
   ]
  },
  {
   "cell_type": "code",
   "execution_count": null,
   "metadata": {},
   "outputs": [],
   "source": [
    "# Analisando a distribuição do colesterol pela idade\n",
    "x = train[['Age', 'Cholesterol']].groupby(['Age']).count()\n",
    "print(x)"
   ]
  },
  {
   "cell_type": "code",
   "execution_count": null,
   "metadata": {},
   "outputs": [],
   "source": [
    "# Analisando a distribuição do colesterol pelo gênero e idade\n",
    "x = train[['Age', 'Sex', 'Cholesterol']].groupby(['Age','Sex']).count()\n",
    "print(x)"
   ]
  },
  {
   "cell_type": "code",
   "execution_count": null,
   "metadata": {},
   "outputs": [],
   "source": [
    "# Analisando a distribuição da Dieta pela idade e gênero\n",
    "x = train[['Age', 'Sex', 'Diet']].groupby(['Age', 'Sex']).count()\n",
    "print(x)"
   ]
  },
  {
   "cell_type": "code",
   "execution_count": null,
   "metadata": {},
   "outputs": [],
   "source": [
    "# Analisando a distribuição do Nível de Estresse pela idade e gênero\n",
    "x = train[['Age', 'Sex', 'StressLevel']].groupby(['Age', 'Sex']).count()\n",
    "print(x)"
   ]
  },
  {
   "cell_type": "code",
   "execution_count": null,
   "metadata": {},
   "outputs": [],
   "source": [
    "# Analisando a chance de risco de infarto pelo gênero\n",
    "train[['Sex', 'HeartAttackRisk']].groupby(['Sex']).mean()"
   ]
  },
  {
   "cell_type": "code",
   "execution_count": null,
   "metadata": {},
   "outputs": [],
   "source": [
    "# Plotar os gráficos para Heart Attack Risk vs Sex, Smoking, Diet e Previous Heart Problem\n",
    "fig, (axis1, axis2, axis3, axis4) = plt.subplot(1,4,figsize=(12,4))\n",
    "\n",
    "sns.barplot(x='Sex', y='HeartAttackRisk', data=train, ax=axis1)\n",
    "sns.barplot(x='Smoking', y='HeartAttackRisk', data=train, ax=axis2)\n",
    "sns.barplot(x='Diet', y='HeartAttackRisk', data=train, ax=axis3)\n",
    "sns.barplot(x='PreviousHeartProblems', y='HertAttackRisk', data=train, ax=axis4);"
   ]
  },
  {
   "cell_type": "code",
   "execution_count": null,
   "metadata": {},
   "outputs": [],
   "source": [
    "# FaceGrid pelos dados de 'Heart Attack Risk'  - Resultando dois gráficos com risco de ataque cardiaco , mas por idade\n",
    "age_attack = sns.FacetGrid(train, col='HeartAttackRIsk')\n",
    "age_attack.map(sns.histplot, 'Age')"
   ]
  },
  {
   "cell_type": "code",
   "execution_count": null,
   "metadata": {},
   "outputs": [],
   "source": [
    "# FaceGrid pelos dados de 'Sex' - Resultando dois gráficos com masculino e feminino, mais por 'Heart Rate'\n",
    "sex_rate = sns.FacetGrid(train, col='Sex')\n",
    "sex_rate.map(sns.histplot, 'HeartRate')"
   ]
  },
  {
   "cell_type": "code",
   "execution_count": null,
   "metadata": {},
   "outputs": [],
   "source": [
    "# FaceGrid pelos dados de 'Age' - Resultando de 10 gráficos representando os dez levels de Stress pela idade\n",
    "age_stress = sns.FacetGrid(train, col='StressLevel')\n",
    "age_stress.map(sns.histplot, 'Age')"
   ]
  },
  {
   "cell_type": "code",
   "execution_count": null,
   "metadata": {},
   "outputs": [],
   "source": [
    "# FaceGrid pelos dados de 'Family History' -  Resultando dois gráficos com histórico familiar, mas por idade\n",
    "age_familyhistory = sns.FacetGrid(train, col='FamilyHistory')\n",
    "age_familyhistory.map(sns.histplot, 'Age')"
   ]
  },
  {
   "cell_type": "code",
   "execution_count": null,
   "metadata": {},
   "outputs": [],
   "source": [
    "# Plotar uma scatter matrix com os atributos Idade, Sexo, Fumante, Colesterol e Nível de Estresse\n",
    "columns = ['Age', 'Sex', 'Smoking', 'Cholesterol', 'StressLevel']\n",
    "pd.plotting.scatter_matrix(train[columns], figsize=(15,10));"
   ]
  },
  {
   "cell_type": "code",
   "execution_count": null,
   "metadata": {},
   "outputs": [],
   "source": [
    "# Plotar uma scatter matrix com os atributos de Idade, Colesterol e Nível de Estresse\n",
    "columns = ['Age', 'Cholesterol', 'StressLevel']\n",
    "pd.plotting.scatter_matrix(train[columns], figsize=(15, 10));"
   ]
  },
  {
   "cell_type": "code",
   "execution_count": null,
   "metadata": {},
   "outputs": [],
   "source": [
    "# Plotar o heatmap para as variáveis numéricas\n",
    "# Cálculo da correlação\n",
    "print(train.head())\n",
    "correlacao = train.corr(numeric_only=True)\n",
    "print('\\nCORRELAÇÃO: \\N', correlacao)\n",
    "# Plot gráfico Heatmap\n",
    "sns.heatmap(correlacao, cmap='coolwarm', fmt='.2f', linewidths=0.1, vmax=1.0, square=True, linecolor='white', annot=True)"
   ]
  },
  {
   "cell_type": "markdown",
   "metadata": {},
   "source": [
    "1. Codificação One-Hot:\n",
    "\n",
    "Converte variáveis categóricas (por exemplo, sexo, tabagismo) em representações numéricas usando codificação one-hot para que possam ser usadas em modelos de aprendizado de máquina."
   ]
  },
  {
   "cell_type": "code",
   "execution_count": null,
   "metadata": {},
   "outputs": [],
   "source": [
    "# Codificação One-Hot para variáveis categóricas\n",
    "encoder = OneHotEncoder(handle_unknown='ignore')\n",
    "features_to_encode = ['Sex', 'Smoking', 'AlcoholConsumption', 'Diet', 'PreviousHeartProblems', 'MedicationUse']\n",
    "encoder.fit(train[features_to_encode])"
   ]
  },
  {
   "cell_type": "code",
   "execution_count": null,
   "metadata": {},
   "outputs": [],
   "source": [
    "# Transformar os dados de treinamento e teste\n",
    "train_encoded = encoder.transform(train[features_to_encode]).toarray()\n",
    "test_encoded = encoder.transform(test[features_to_encode]).toarray()"
   ]
  },
  {
   "cell_type": "code",
   "execution_count": null,
   "metadata": {},
   "outputs": [],
   "source": [
    "# Renomear as colunas codificadas\n",
    "new_column_names = encoder.get_feature_names_out(features_to_encode)\n",
    "train_encoded = pd.DataFrame(train_encoded, columns=new_column_names)\n",
    "test_encoded = pd.DataFrame(test_encoded, columns=new_column_names)"
   ]
  },
  {
   "cell_type": "code",
   "execution_count": null,
   "metadata": {},
   "outputs": [],
   "source": [
    "# Concatenar os dados codificados aos DataFrames  originais\n",
    "train = pd.concat([train, train_encoded], axis=1)\n",
    "test = pd.concat([test, test_encoded], axis=1)"
   ]
  },
  {
   "cell_type": "code",
   "execution_count": null,
   "metadata": {},
   "outputs": [],
   "source": [
    "# Removendo as colunas originais após a codificação\n",
    "train.drop(features_to_encode, axis=1, inplace=True)\n",
    "test.drop(features_to_encode, axis=1, inplace=True)"
   ]
  },
  {
   "cell_type": "code",
   "execution_count": null,
   "metadata": {},
   "outputs": [],
   "source": [
    "# Separando o alvo dos dados de treinamento\n",
    "target = train['HeartAttackRisk']\n",
    "train.drop(['HeartAttackRisk'], axis=1, inplace=True)"
   ]
  },
  {
   "cell_type": "markdown",
   "metadata": {},
   "source": [
    "1. Imputação de Valores:\n",
    "\n",
    "Trata valores ausentes nos dados substituindo-os pela mediana dos valores da coluna."
   ]
  },
  {
   "cell_type": "code",
   "execution_count": null,
   "metadata": {},
   "outputs": [],
   "source": [
    "# Imputação de valores ausentes com a mediana\n",
    "for column in train.columns:\n",
    "    train[column].fillna(train[column].median(), inplace=True)\n",
    "    test[column].fillna(train[column].median(), inplace=True)"
   ]
  },
  {
   "cell_type": "markdown",
   "metadata": {},
   "source": [
    "1. Divisão e Treinamento do Modelo:\n",
    "\n",
    "- Divide os dados de treinamento em conjuntos de treinamentos e validação para avaliar o desempenho do modelo.\n",
    "- Cria e treina um modelo de Árvore de Decisão para prever o risco de ataque cardíaco."
   ]
  },
  {
   "cell_type": "code",
   "execution_count": null,
   "metadata": {},
   "outputs": [],
   "source": [
    "# Dividindo os dados de treinamento para validação cruzada\n",
    "X_train, X_val, y_train, y_val = train_test_split(train, target, test_size=0.2, random_state=42)"
   ]
  },
  {
   "cell_type": "code",
   "execution_count": null,
   "metadata": {},
   "outputs": [],
   "source": [
    "# Converter nomes de colunas para string\n",
    "X_train.columns = X_train.columns.astype(str)\n",
    "X_val.columns = X_val.columns.astype(str)"
   ]
  },
  {
   "cell_type": "code",
   "execution_count": null,
   "metadata": {},
   "outputs": [],
   "source": [
    "# Criando e treinando o modelo de árvore de decisão\n",
    "tree_model = DecisionTreeClassifier(max_depth=9, criterion='entropy')\n",
    "tree_model.fit(X_train, y_train)"
   ]
  },
  {
   "cell_type": "code",
   "execution_count": null,
   "metadata": {},
   "outputs": [],
   "source": [
    "# Avaliando o modelo no conjunto de validação\n",
    "y_pred_tree_val = tree_model.predict(X_val)\n",
    "accuracy_val = accuracy_score(y_val, y_pred_tree_val)\n",
    "print('Acurácia no conjunto de validação: ', accuracy_val)"
   ]
  },
  {
   "cell_type": "code",
   "execution_count": null,
   "metadata": {},
   "outputs": [],
   "source": [
    "# Remover a coluna 'HeartAttackRisk' do DataFrame test\n",
    "test.drop(['HeartAttackRisk'], axis=1, inplace=True)"
   ]
  },
  {
   "cell_type": "markdown",
   "metadata": {},
   "source": [
    "1. Avaliação e Previsões do Modelo:\n",
    "\n",
    "- Avalia o desempenho do modelo nos conjuntos de validação e teste usando a métrica de acurácia.\n",
    "- Faz previsões no conjunto de teste usando o modelo treinado."
   ]
  },
  {
   "cell_type": "code",
   "execution_count": null,
   "metadata": {},
   "outputs": [],
   "source": [
    "# Fazendo previsões no conjunto de teste\n",
    "y_pred_tree = tree_model.predict(test)\n",
    "accuracy_test = accuracy_score(np.array(y_test['HeartAttackRisk']), y_pred_tree)\n",
    "print('Acurácia no conjunto de teste: ', accuracy_test)"
   ]
  },
  {
   "cell_type": "code",
   "execution_count": null,
   "metadata": {},
   "outputs": [],
   "source": [
    "# Plotando a árvore de decisão\n",
    "fig = plt.figure(figsize=(15, 10))\n",
    "_ = tree.plot_tree(tree_model, feature_names=train.columns, class_names={0: 'Não', 1: 'Sim'})"
   ]
  },
  {
   "cell_type": "markdown",
   "metadata": {},
   "source": [
    "1. Função de Previsão:\n",
    "\n",
    "Define uma função para receber informações do paciente, realizar as transformações necessárias nos dados e fornecer uma previsão de risco de ataque cardíaco usando o modelo treinado."
   ]
  },
  {
   "cell_type": "code",
   "execution_count": null,
   "metadata": {},
   "outputs": [],
   "source": [
    "def prever_risco():\n",
    "    sexo = int(input(\"Digite o sexo (0: Feminino, 1: Masculino): \"))\n",
    "    idade = int(input(\"Digite a idade: \"))\n",
    "    fuma = int(input(\"Fuma? (0: Não, 1: Sim): \"))\n",
    "    obesidade = int(input(\"Obeso? (0: Não, 1: Sim): \"))\n",
    "    alcool = int(input(\"Consome Alcool? (0: Não, 1: Sim): \"))\n",
    "    diabetes = int(input(\"Diabético? (0: Não, 1: Sim): \"))\n",
    "    dieta = int(input(\"Dieta (0: Saudável, 1: Não Saudável, 2: Moderada): \"))\n",
    "    probemas_cardiacos = int(input(\"Problemas cardíacos prévios? (0: Não, 1: Sim): \"))\n",
    "    uso_medicacao = int(input(\"Uso de medicação? (0: Não, 1: Sim): \"))\n",
    "    colesterol = int(input(\"Taxa de Colesterol: \"))\n",
    "    # Criando um DataFrame com os dados do paciente\n",
    "    dados_entrada = {'Age':[idade],\n",
    "                     'Cholesterol':[colesterol], #[train['Cholesterol'].median()], #Valor da mediana do treino\n",
    "                     'HeartRate':[train['HeartRate'].median()], #Valor da mediana do treino\n",
    "                     'Diabetes':[diabetes],\n",
    "                     'FamilyHistory':[train['FamilyHistory'].median()], #Valor da mediana do treino\n",
    "                     'Obesity':[obesidade],\n",
    "                     'ExerciseHoursPerWeek':[train['ExerciseHoursPerWeek'].median()], #Valor da mediana do treino\n",
    "                     'StressLevel':[train['StressLecel'].median()], #Valor da mediana do treino\n",
    "                     'SedentaryHoursPerDay':[train['SedentaryHoursPerDay'].median()], #Valor da mediana do treino\n",
    "                     'BMI':[train['BMI'].median()], #Valor da mediana do treino\n",
    "                     'Triglycerides':[train['Triglycerides'].median()], #Valor da mediana do treino\n",
    "                     'PhysicalActivityDaysPerWeek':[train['PhysicalActivityDaysPerWeek'].median()], # Valor da mediana do treino\n",
    "                     'SleepHoursPerDay':[train['SleepHoursPerDay'].median()], # Valor da mediana do treino\n",
    "                     'Sex':[sexo],\n",
    "                     'Smoking':[fuma],\n",
    "                     'AlcoholConsumption':[alcool],\n",
    "                     'Diet':[dieta],\n",
    "                     'MedicationUse':[uso_medicacao]}\n",
    "    pessoa = pd.DataFrame(dados_entrada)\n",
    "\n",
    "    # Codificando as variáveis categóricas\n",
    "    pessoa_encoded = encoder.transform(pessoa[features_to_encode]).toarray()\n",
    "    new_column_names = encoder.get_feature_names_out(features_to_encode)\n",
    "    pessoa_encoded = pd.DataFrame(pessoa_encoded, columns=new_column_names)\n",
    "\n",
    "    # Concatenar os dados codificados ao DataFrame original\n",
    "    pessoa = pd.concat([pessoa, pessoa_encoded], axis=1)\n",
    "\n",
    "    # Remover as colunas originais após a codificação\n",
    "    pessoa.drop(features_to_encode, axis=1, inplace=True)\n",
    "\n",
    "    # Converter nomes de colunas para string\n",
    "    pessoa.columns = pessoa.columns.astype(str)\n",
    "\n",
    "    # Fazendo a previsão\n",
    "    resultado = tree_model.predict(pessoa)\n",
    "\n",
    "    if resultado == 0:\n",
    "        print(\"\\nPaciente sem risco de infarto.\")\n",
    "    else:\n",
    "        print(\"\\nPaciente com risco de infarto.\")\n",
    "\n",
    "prever_risco()"
   ]
  }
 ],
 "metadata": {
  "kernelspec": {
   "display_name": "Python 3",
   "language": "python",
   "name": "python3"
  },
  "language_info": {
   "codemirror_mode": {
    "name": "ipython",
    "version": 3
   },
   "file_extension": ".py",
   "mimetype": "text/x-python",
   "name": "python",
   "nbconvert_exporter": "python",
   "pygments_lexer": "ipython3",
   "version": "3.12.3"
  }
 },
 "nbformat": 4,
 "nbformat_minor": 2
}
